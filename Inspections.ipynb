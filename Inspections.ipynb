{
 "cells": [
  {
   "cell_type": "code",
   "execution_count": 1,
   "metadata": {},
   "outputs": [],
   "source": [
    "import requests\n",
    "from bs4 import BeautifulSoup\n",
    "import json\n",
    "import pandas as pd\n",
    "\n",
    "\n",
    "url = 'https://dhss.delaware.gov/dhss/dph/hsp/Default.aspx?listAll=1&sort=Establishment'\n",
    "response = requests.get(url)\n",
    "if response.status_code == 200:\n",
    "    page_content = response.text\n"
   ]
  },
  {
   "cell_type": "markdown",
   "metadata": {},
   "source": [
    "Use requests to get the data from the website into a text format for parsing.\n"
   ]
  },
  {
   "cell_type": "code",
   "execution_count": 2,
   "metadata": {},
   "outputs": [],
   "source": [
    "soup = BeautifulSoup(page_content, 'html.parser')\n",
    "table = soup.find('table')\n",
    "rows = []\n",
    "for row in table.findAll('tr'):\n",
    "    cells = []\n",
    "    for cell in row.findAll(['td']):\n",
    "        text = cell.text\n",
    "        text = text.strip()\n",
    "        cells.append(str(text))\n",
    "    rows.append(cells)\n"
   ]
  },
  {
   "cell_type": "code",
   "execution_count": 3,
   "metadata": {},
   "outputs": [
    {
     "name": "stdout",
     "output_type": "stream",
     "text": [
      "['Establishments', 'Address', 'City', 'Zip', 'County', 'Inspection Type', 'Inspection Date', 'Violations']\n"
     ]
    }
   ],
   "source": [
    "print(rows[0])\n",
    "headers = rows[0]\n"
   ]
  },
  {
   "cell_type": "markdown",
   "metadata": {},
   "source": [
    "We now have all the data from the table on the URL inside of an array. Looking at the first element in the array, we can see the headers for the information that we got. We want to treat these headers as separate so that they do not interfere with our values for data. We can read the data from an array into a pandas Data Frame."
   ]
  },
  {
   "cell_type": "code",
   "execution_count": 4,
   "metadata": {},
   "outputs": [
    {
     "name": "stdout",
     "output_type": "stream",
     "text": [
      "<class 'pandas.core.frame.DataFrame'>\n",
      "RangeIndex: 11344 entries, 0 to 11343\n",
      "Data columns (total 8 columns):\n",
      "Establishments     11344 non-null object\n",
      "Address            11344 non-null object\n",
      "City               11344 non-null object\n",
      "Zip                11344 non-null object\n",
      "County             11344 non-null object\n",
      "Inspection Type    11344 non-null object\n",
      "Inspection Date    11344 non-null object\n",
      "Violations         11344 non-null object\n",
      "dtypes: object(8)\n",
      "memory usage: 709.1+ KB\n"
     ]
    }
   ],
   "source": [
    "df = pd.DataFrame(rows[1:], columns=(rows[0]))\n",
    "df.info()\n"
   ]
  },
  {
   "cell_type": "code",
   "execution_count": 5,
   "metadata": {},
   "outputs": [
    {
     "name": "stdout",
     "output_type": "stream",
     "text": [
      "6749\n"
     ]
    }
   ],
   "source": [
    "total = 0\n",
    "for row in df.itertuples():\n",
    "    if row[8] == 'None':\n",
    "        total += 1\n",
    "print(total)\n",
    "\n"
   ]
  },
  {
   "cell_type": "markdown",
   "metadata": {},
   "source": [
    "Now that the data is entered into a dataframe in Pandas we can do some basic evaluation of the data. We can go through all of the rows in the dataframe and see if the row with the title `Violations` has the value of 'None'. If it does have the value of None, we can add 1 to a total variable to keep track of the total number of restaurants that have had violations. \n",
    "\n",
    "From the above cells, we can see that there are 11,344 total entries in the inspections table on the government website. Therefore of the 11,344 inspections that took place, there were 6,749 that had inspections leaving 4,595 inspections that did not have any violations. This does not equate to 4,595 restaurants not having violations in the past few years, this only accounts for the inspections themselves. In some instances a place could have already had a violation and then for the followup visit there could have been no violations.\n",
    "\n",
    "Using a modified version of the code above we can check to see which counties the inspections and violations took place.\n"
   ]
  },
  {
   "cell_type": "code",
   "execution_count": 6,
   "metadata": {},
   "outputs": [
    {
     "name": "stdout",
     "output_type": "stream",
     "text": [
      "dict_items([('Kent', 1513), ('New Castle County', 6009), ('Sussex', 3822)])\n"
     ]
    }
   ],
   "source": [
    "from collections import defaultdict\n",
    "d = defaultdict(int)\n",
    "\n",
    "for row in df.itertuples():\n",
    "    d[row[5]] += 1\n",
    "print(d.items())"
   ]
  },
  {
   "cell_type": "markdown",
   "metadata": {},
   "source": [
    "Since the state of Delaware only has three different counties, this is fairly trivial. We can see that most of the inspections took place in New Castle County which has higher populations than the other counties. More people, more demand for food thus more places to be able to get food.\n",
    "\n",
    "We can do the same but with zip codes:"
   ]
  },
  {
   "cell_type": "code",
   "execution_count": 7,
   "metadata": {},
   "outputs": [
    {
     "name": "stdout",
     "output_type": "stream",
     "text": [
      "dict_items([('19901', 653), ('19720', 522), ('19808', 223), ('19973', 266), ('19801', 1081), ('19930', 204), ('19971', 893), ('19803', 387), ('19709', 619), ('19958', 397), ('19947', 313), ('19810', 191), ('19802', 224), ('19944', 101), ('19805', 478), ('19711', 442), ('19702', 304), ('19701', 413), ('19809', 86), ('19804', 183), ('19713', 319), ('19968', 129), ('19956', 192), ('19963', 259), ('19904', 226), ('19967', 40), ('19977', 178), ('19806', 143), ('19975', 160), ('19966', 445), ('19970', 79), ('19950', 50), ('19952', 134), ('19945', 48), ('10071', 3), ('19934', 110), ('19703', 109), ('09703', 1), ('19850', 4), ('19718', 6), ('19707', 53), ('19946', 21), ('19807', 77), ('19931', 2), ('19939', 38), ('19734', 50), ('19933', 96), ('19951', 25), ('19964', 10), ('19941', 28), ('19730', 16), ('19733', 5), ('19936', 9), ('19980', 13), ('19960', 18), ('19938', 19), ('19969', 3), ('19943', 48), ('19706', 30), ('19705', 2), ('19903', 14), ('19940', 42), ('19880', 3), ('19962', 21), ('19953', 8), ('19954', 7), ('1991', 4), ('19731', 8), ('19739', 5), ('10058', 2), ('19961', 2), ('19942', 1), ('19708', 6), ('19716', 15), ('19900', 3), ('1990', 2), ('18838', 5), ('10030', 2), ('19890', 3), ('1970+', 2), ('21620', 3), ('19955', 3), ('`9960', 3), ('19735', 2)])\n"
     ]
    }
   ],
   "source": [
    "from collections import defaultdict\n",
    "d = defaultdict(int)\n",
    "\n",
    "for row in df.itertuples():\n",
    "    d[row[4]] += 1\n",
    "print(d.items())"
   ]
  },
  {
   "cell_type": "code",
   "execution_count": 8,
   "metadata": {},
   "outputs": [
    {
     "data": {
      "text/plain": [
       "['09703',\n",
       " '10030',\n",
       " '10058',\n",
       " '10071',\n",
       " '18838',\n",
       " '1970+',\n",
       " '19701',\n",
       " '19702',\n",
       " '19703',\n",
       " '19705',\n",
       " '19706',\n",
       " '19707',\n",
       " '19708',\n",
       " '19709',\n",
       " '19711',\n",
       " '19713',\n",
       " '19716',\n",
       " '19718',\n",
       " '19720',\n",
       " '19730',\n",
       " '19731',\n",
       " '19733',\n",
       " '19734',\n",
       " '19735',\n",
       " '19739',\n",
       " '19801',\n",
       " '19802',\n",
       " '19803',\n",
       " '19804',\n",
       " '19805',\n",
       " '19806',\n",
       " '19807',\n",
       " '19808',\n",
       " '19809',\n",
       " '19810',\n",
       " '19850',\n",
       " '19880',\n",
       " '19890',\n",
       " '1990',\n",
       " '19900',\n",
       " '19901',\n",
       " '19903',\n",
       " '19904',\n",
       " '1991',\n",
       " '19930',\n",
       " '19931',\n",
       " '19933',\n",
       " '19934',\n",
       " '19936',\n",
       " '19938',\n",
       " '19939',\n",
       " '19940',\n",
       " '19941',\n",
       " '19942',\n",
       " '19943',\n",
       " '19944',\n",
       " '19945',\n",
       " '19946',\n",
       " '19947',\n",
       " '19950',\n",
       " '19951',\n",
       " '19952',\n",
       " '19953',\n",
       " '19954',\n",
       " '19955',\n",
       " '19956',\n",
       " '19958',\n",
       " '19960',\n",
       " '19961',\n",
       " '19962',\n",
       " '19963',\n",
       " '19964',\n",
       " '19966',\n",
       " '19967',\n",
       " '19968',\n",
       " '19969',\n",
       " '19970',\n",
       " '19971',\n",
       " '19973',\n",
       " '19975',\n",
       " '19977',\n",
       " '19980',\n",
       " '21620',\n",
       " '`9960']"
      ]
     },
     "execution_count": 8,
     "metadata": {},
     "output_type": "execute_result"
    }
   ],
   "source": [
    "sorted(list(d.keys()))"
   ]
  },
  {
   "cell_type": "markdown",
   "metadata": {},
   "source": [
    "Looking through our list of sorted Zip Codes we can discover our first mistakes in the dataset. '\\`9960' is not a valid zip code as it contains an illegal character. Similarlly `1991` and `1990` are both only 4 numbers long, so those are invalid. `1970+` is another invalid Zip Code. Zip Codes `21620, 10030, 10058, and 18838` are non Delaware and even non US zip codes. However, these can easily be resolved by using the remaining data to correctly update the information.\n",
    "\n",
    "We can get the total number of unique restaurants from the dataframe with the following:\n"
   ]
  },
  {
   "cell_type": "code",
   "execution_count": 9,
   "metadata": {},
   "outputs": [
    {
     "data": {
      "text/plain": [
       "3658"
      ]
     },
     "execution_count": 9,
     "metadata": {},
     "output_type": "execute_result"
    }
   ],
   "source": [
    "len(df['Establishments'].unique())\n"
   ]
  },
  {
   "cell_type": "code",
   "execution_count": 37,
   "metadata": {},
   "outputs": [
    {
     "name": "stdout",
     "output_type": "stream",
     "text": [
      "0\n",
      "[]\n"
     ]
    }
   ],
   "source": [
    "total = 0\n",
    "data = []\n",
    "for row in df.itertuples():\n",
    "    if '8-403.40' in row[8]:\n",
    "        total += 1\n",
    "#         print(row)\n",
    "        data.append(row[1])\n",
    "print(total)\n",
    "print(data)\n"
   ]
  },
  {
   "cell_type": "code",
   "execution_count": null,
   "metadata": {},
   "outputs": [],
   "source": []
  },
  {
   "cell_type": "code",
   "execution_count": null,
   "metadata": {},
   "outputs": [],
   "source": []
  },
  {
   "cell_type": "code",
   "execution_count": null,
   "metadata": {},
   "outputs": [],
   "source": []
  },
  {
   "cell_type": "code",
   "execution_count": null,
   "metadata": {},
   "outputs": [],
   "source": []
  },
  {
   "cell_type": "code",
   "execution_count": null,
   "metadata": {},
   "outputs": [],
   "source": []
  },
  {
   "cell_type": "code",
   "execution_count": null,
   "metadata": {},
   "outputs": [],
   "source": []
  }
 ],
 "metadata": {
  "kernelspec": {
   "display_name": "Python 3",
   "language": "python",
   "name": "python3"
  },
  "language_info": {
   "codemirror_mode": {
    "name": "ipython",
    "version": 3
   },
   "file_extension": ".py",
   "mimetype": "text/x-python",
   "name": "python",
   "nbconvert_exporter": "python",
   "pygments_lexer": "ipython3",
   "version": "3.7.0"
  }
 },
 "nbformat": 4,
 "nbformat_minor": 2
}
